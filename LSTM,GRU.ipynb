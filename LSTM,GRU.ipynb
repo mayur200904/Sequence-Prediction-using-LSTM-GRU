{
 "cells": [
  {
   "cell_type": "markdown",
   "id": "b548a31c-8167-4c6e-ae1d-52efcf56d6af",
   "metadata": {},
   "source": [
    "# importing libraries"
   ]
  },
  {
   "cell_type": "code",
   "execution_count": 1,
   "id": "3ba64176-83b8-410b-8dd5-4088414713c8",
   "metadata": {},
   "outputs": [],
   "source": [
    "import pandas as pd\n",
    "import numpy as np\n",
    "import matplotlib.pyplot as plt \n",
    "# for scaling\n",
    "from sklearn.preprocessing import MinMaxScaler\n",
    "from sklearn.model_selection import train_test_split\n",
    "import tensorflow as tf\n",
    "from tensorflow import keras"
   ]
  },
  {
   "cell_type": "markdown",
   "id": "f2f1a835-ea46-4c6e-b633-5e8aab0c1234",
   "metadata": {},
   "source": [
    "# load the data"
   ]
  },
  {
   "cell_type": "code",
   "execution_count": 2,
   "id": "4f073195-426b-40ff-bbdc-430360474fd1",
   "metadata": {},
   "outputs": [],
   "source": [
    "df=pd.read_csv(r\"/Users/mayursantoshtarate/Downloads/ny_taxi_data.csv\")"
   ]
  },
  {
   "cell_type": "code",
   "execution_count": 3,
   "id": "ac164cbf-6df4-41eb-a3df-48bdb5058450",
   "metadata": {},
   "outputs": [
    {
     "data": {
      "text/html": [
       "<div>\n",
       "<style scoped>\n",
       "    .dataframe tbody tr th:only-of-type {\n",
       "        vertical-align: middle;\n",
       "    }\n",
       "\n",
       "    .dataframe tbody tr th {\n",
       "        vertical-align: top;\n",
       "    }\n",
       "\n",
       "    .dataframe thead th {\n",
       "        text-align: right;\n",
       "    }\n",
       "</style>\n",
       "<table border=\"1\" class=\"dataframe\">\n",
       "  <thead>\n",
       "    <tr style=\"text-align: right;\">\n",
       "      <th></th>\n",
       "      <th>id</th>\n",
       "      <th>vendor_id</th>\n",
       "      <th>pickup_datetime</th>\n",
       "      <th>dropoff_datetime</th>\n",
       "      <th>passenger_count</th>\n",
       "      <th>pickup_longitude</th>\n",
       "      <th>pickup_latitude</th>\n",
       "      <th>dropoff_longitude</th>\n",
       "      <th>dropoff_latitude</th>\n",
       "      <th>store_and_fwd_flag</th>\n",
       "    </tr>\n",
       "  </thead>\n",
       "  <tbody>\n",
       "    <tr>\n",
       "      <th>0</th>\n",
       "      <td>id2875421</td>\n",
       "      <td>2</td>\n",
       "      <td>14-03-2016 17:24</td>\n",
       "      <td>14-03-2016 17:32</td>\n",
       "      <td>1</td>\n",
       "      <td>-73.982155</td>\n",
       "      <td>40.767937</td>\n",
       "      <td>-73.964630</td>\n",
       "      <td>40.765602</td>\n",
       "      <td>N</td>\n",
       "    </tr>\n",
       "    <tr>\n",
       "      <th>1</th>\n",
       "      <td>id2377394</td>\n",
       "      <td>1</td>\n",
       "      <td>12-06-2016 00:43</td>\n",
       "      <td>12-06-2016 00:54</td>\n",
       "      <td>1</td>\n",
       "      <td>-73.980415</td>\n",
       "      <td>40.738564</td>\n",
       "      <td>-73.999481</td>\n",
       "      <td>40.731152</td>\n",
       "      <td>N</td>\n",
       "    </tr>\n",
       "    <tr>\n",
       "      <th>2</th>\n",
       "      <td>id3858529</td>\n",
       "      <td>2</td>\n",
       "      <td>19-01-2016 11:35</td>\n",
       "      <td>19-01-2016 12:10</td>\n",
       "      <td>1</td>\n",
       "      <td>-73.979027</td>\n",
       "      <td>40.763939</td>\n",
       "      <td>-74.005333</td>\n",
       "      <td>40.710087</td>\n",
       "      <td>N</td>\n",
       "    </tr>\n",
       "    <tr>\n",
       "      <th>3</th>\n",
       "      <td>id3504673</td>\n",
       "      <td>2</td>\n",
       "      <td>06-04-2016 19:32</td>\n",
       "      <td>06-04-2016 19:39</td>\n",
       "      <td>1</td>\n",
       "      <td>-74.010040</td>\n",
       "      <td>40.719971</td>\n",
       "      <td>-74.012268</td>\n",
       "      <td>40.706718</td>\n",
       "      <td>N</td>\n",
       "    </tr>\n",
       "    <tr>\n",
       "      <th>4</th>\n",
       "      <td>id2181028</td>\n",
       "      <td>2</td>\n",
       "      <td>26-03-2016 13:30</td>\n",
       "      <td>26-03-2016 13:38</td>\n",
       "      <td>1</td>\n",
       "      <td>-73.973053</td>\n",
       "      <td>40.793209</td>\n",
       "      <td>-73.972923</td>\n",
       "      <td>40.782520</td>\n",
       "      <td>N</td>\n",
       "    </tr>\n",
       "  </tbody>\n",
       "</table>\n",
       "</div>"
      ],
      "text/plain": [
       "          id  vendor_id   pickup_datetime  dropoff_datetime  passenger_count  \\\n",
       "0  id2875421          2  14-03-2016 17:24  14-03-2016 17:32                1   \n",
       "1  id2377394          1  12-06-2016 00:43  12-06-2016 00:54                1   \n",
       "2  id3858529          2  19-01-2016 11:35  19-01-2016 12:10                1   \n",
       "3  id3504673          2  06-04-2016 19:32  06-04-2016 19:39                1   \n",
       "4  id2181028          2  26-03-2016 13:30  26-03-2016 13:38                1   \n",
       "\n",
       "   pickup_longitude  pickup_latitude  dropoff_longitude  dropoff_latitude  \\\n",
       "0        -73.982155        40.767937         -73.964630         40.765602   \n",
       "1        -73.980415        40.738564         -73.999481         40.731152   \n",
       "2        -73.979027        40.763939         -74.005333         40.710087   \n",
       "3        -74.010040        40.719971         -74.012268         40.706718   \n",
       "4        -73.973053        40.793209         -73.972923         40.782520   \n",
       "\n",
       "  store_and_fwd_flag  \n",
       "0                  N  \n",
       "1                  N  \n",
       "2                  N  \n",
       "3                  N  \n",
       "4                  N  "
      ]
     },
     "execution_count": 3,
     "metadata": {},
     "output_type": "execute_result"
    }
   ],
   "source": [
    "df.head()"
   ]
  },
  {
   "cell_type": "code",
   "execution_count": 4,
   "id": "cf243145-3a48-4caf-8cd1-d1edf992f6e6",
   "metadata": {},
   "outputs": [],
   "source": [
    "# assuming you want to predict the \"passenger count \""
   ]
  },
  {
   "cell_type": "code",
   "execution_count": 5,
   "id": "559af4ef-1516-4bcc-ad0b-6b67bfc8edd9",
   "metadata": {},
   "outputs": [],
   "source": [
    "data=df['passenger_count'].values"
   ]
  },
  {
   "cell_type": "markdown",
   "id": "cd16ef60-4ee6-46c0-94f0-b4f7cde8494b",
   "metadata": {},
   "source": [
    "# Data preprocessing "
   ]
  },
  {
   "cell_type": "code",
   "execution_count": 6,
   "id": "661029a5-0ee1-468e-8769-f6ca7410da53",
   "metadata": {},
   "outputs": [],
   "source": [
    "scaler=MinMaxScaler()\n",
    "data=scaler.fit_transform(data.reshape(-1,1))"
   ]
  },
  {
   "cell_type": "code",
   "execution_count": 7,
   "id": "af8f1c8b-941a-4681-a74d-049d881e0fd8",
   "metadata": {},
   "outputs": [],
   "source": [
    "sequence_length=10 # we can adjust the sequence "
   ]
  },
  {
   "cell_type": "code",
   "execution_count": 8,
   "id": "35e43ad1-9bce-4776-832d-3819402326b0",
   "metadata": {},
   "outputs": [],
   "source": [
    "sequences=[]\n",
    "targets=[]"
   ]
  },
  {
   "cell_type": "code",
   "execution_count": 9,
   "id": "0e3a1c9a-7840-4736-a4be-b60addf9510e",
   "metadata": {},
   "outputs": [],
   "source": [
    "for i in range (len(data)-sequence_length):\n",
    "    sequences.append(data[i:i+sequence_length])\n",
    "    targets.append(data[i+sequence_length])\n",
    "sequences=np.array(sequences)\n",
    "targets= np.array(targets)\n"
   ]
  },
  {
   "cell_type": "code",
   "execution_count": 10,
   "id": "cf690e2e-24ea-4cd4-98ae-ac28ae386d29",
   "metadata": {},
   "outputs": [
    {
     "data": {
      "text/plain": [
       "array([[[0. ],\n",
       "        [0. ],\n",
       "        [0. ],\n",
       "        ...,\n",
       "        [0. ],\n",
       "        [0. ],\n",
       "        [0. ]],\n",
       "\n",
       "       [[0. ],\n",
       "        [0. ],\n",
       "        [0. ],\n",
       "        ...,\n",
       "        [0. ],\n",
       "        [0. ],\n",
       "        [0. ]],\n",
       "\n",
       "       [[0. ],\n",
       "        [0. ],\n",
       "        [0. ],\n",
       "        ...,\n",
       "        [0. ],\n",
       "        [0. ],\n",
       "        [0.6]],\n",
       "\n",
       "       ...,\n",
       "\n",
       "       [[0. ],\n",
       "        [0. ],\n",
       "        [0. ],\n",
       "        ...,\n",
       "        [0. ],\n",
       "        [0. ],\n",
       "        [0. ]],\n",
       "\n",
       "       [[0. ],\n",
       "        [0. ],\n",
       "        [0.2],\n",
       "        ...,\n",
       "        [0. ],\n",
       "        [0. ],\n",
       "        [0. ]],\n",
       "\n",
       "       [[0. ],\n",
       "        [0.2],\n",
       "        [0. ],\n",
       "        ...,\n",
       "        [0. ],\n",
       "        [0. ],\n",
       "        [0. ]]])"
      ]
     },
     "execution_count": 10,
     "metadata": {},
     "output_type": "execute_result"
    }
   ],
   "source": [
    "sequences"
   ]
  },
  {
   "cell_type": "code",
   "execution_count": 11,
   "id": "d9edf0bd-7470-46f5-9c16-e2f6e6553b05",
   "metadata": {},
   "outputs": [
    {
     "data": {
      "text/plain": [
       "((12872, 10, 1), (12872, 1))"
      ]
     },
     "execution_count": 11,
     "metadata": {},
     "output_type": "execute_result"
    }
   ],
   "source": [
    "X_train,X_test,y_train,y_test=train_test_split(sequences,targets,test_size=0.2,random_state=42)\n",
    "X_train.shape,y_train.shape"
   ]
  },
  {
   "cell_type": "markdown",
   "id": "a17299d6-63c4-4dbd-b368-921951f0f872",
   "metadata": {},
   "source": [
    "# .1 Build and train RNN model"
   ]
  },
  {
   "cell_type": "code",
   "execution_count": 12,
   "id": "9f2019f1-99fe-4551-9c68-dbf8a49e55ac",
   "metadata": {},
   "outputs": [],
   "source": [
    "model_rnn=keras.Sequential(name='RNN')"
   ]
  },
  {
   "cell_type": "code",
   "execution_count": 13,
   "id": "0feb728b-e17a-4dd6-9f9d-884d2b3c17bd",
   "metadata": {},
   "outputs": [],
   "source": [
    "model_rnn.add(keras.layers.SimpleRNN(100,activation='relu',input_shape=(X_train.shape[1],1)))"
   ]
  },
  {
   "cell_type": "code",
   "execution_count": 14,
   "id": "7eefaecf-60ae-4977-8edf-2779c1123a2d",
   "metadata": {},
   "outputs": [],
   "source": [
    "model_rnn.add(keras.layers.Dense(1))\n",
    "model_rnn.compile(optimizer='adam',loss='mean_squared_error')# adam to manage the weight "
   ]
  },
  {
   "cell_type": "code",
   "execution_count": 15,
   "id": "7a67a1b5-31a7-4998-bb96-638f20c76f39",
   "metadata": {},
   "outputs": [
    {
     "name": "stdout",
     "output_type": "stream",
     "text": [
      "Model: \"RNN\"\n",
      "_________________________________________________________________\n",
      " Layer (type)                Output Shape              Param #   \n",
      "=================================================================\n",
      " simple_rnn (SimpleRNN)      (None, 100)               10200     \n",
      "                                                                 \n",
      " dense (Dense)               (None, 1)                 101       \n",
      "                                                                 \n",
      "=================================================================\n",
      "Total params: 10,301\n",
      "Trainable params: 10,301\n",
      "Non-trainable params: 0\n",
      "_________________________________________________________________\n"
     ]
    }
   ],
   "source": [
    "model_rnn.summary()"
   ]
  },
  {
   "cell_type": "code",
   "execution_count": 16,
   "id": "fe9469aa-2e98-411b-ac5d-d479e1bb1711",
   "metadata": {},
   "outputs": [
    {
     "name": "stdout",
     "output_type": "stream",
     "text": [
      "Epoch 1/100\n"
     ]
    },
    {
     "name": "stderr",
     "output_type": "stream",
     "text": [
      "2024-10-06 10:03:38.587636: W tensorflow/tsl/platform/profile_utils/cpu_utils.cc:128] Failed to get CPU frequency: 0 Hz\n"
     ]
    },
    {
     "name": "stdout",
     "output_type": "stream",
     "text": [
      "403/403 [==============================] - 1s 1ms/step - loss: 0.0700\n",
      "Epoch 2/100\n",
      "403/403 [==============================] - 0s 1ms/step - loss: 0.0694\n",
      "Epoch 3/100\n",
      "403/403 [==============================] - 0s 1ms/step - loss: 0.0693\n",
      "Epoch 4/100\n",
      "403/403 [==============================] - 0s 1ms/step - loss: 0.0694\n",
      "Epoch 5/100\n",
      "403/403 [==============================] - 0s 1ms/step - loss: 0.0692\n",
      "Epoch 6/100\n",
      "403/403 [==============================] - 0s 1ms/step - loss: 0.0692\n",
      "Epoch 7/100\n",
      "403/403 [==============================] - 0s 1ms/step - loss: 0.0692\n",
      "Epoch 8/100\n",
      "403/403 [==============================] - 0s 1ms/step - loss: 0.0691\n",
      "Epoch 9/100\n",
      "403/403 [==============================] - 0s 1ms/step - loss: 0.0692\n",
      "Epoch 10/100\n",
      "403/403 [==============================] - 0s 1ms/step - loss: 0.0691\n",
      "Epoch 11/100\n",
      "403/403 [==============================] - 0s 1ms/step - loss: 0.0691\n",
      "Epoch 12/100\n",
      "403/403 [==============================] - 0s 1ms/step - loss: 0.0691\n",
      "Epoch 13/100\n",
      "403/403 [==============================] - 0s 1ms/step - loss: 0.0690\n",
      "Epoch 14/100\n",
      "403/403 [==============================] - 0s 1ms/step - loss: 0.0691\n",
      "Epoch 15/100\n",
      "403/403 [==============================] - 0s 1ms/step - loss: 0.0690\n",
      "Epoch 16/100\n",
      "403/403 [==============================] - 0s 1ms/step - loss: 0.0690\n",
      "Epoch 17/100\n",
      "403/403 [==============================] - 0s 1ms/step - loss: 0.0690\n",
      "Epoch 18/100\n",
      "403/403 [==============================] - 0s 1ms/step - loss: 0.0689\n",
      "Epoch 19/100\n",
      "403/403 [==============================] - 0s 1ms/step - loss: 0.0689\n",
      "Epoch 20/100\n",
      "403/403 [==============================] - 0s 1ms/step - loss: 0.0689\n",
      "Epoch 21/100\n",
      "403/403 [==============================] - 0s 1ms/step - loss: 0.0688\n",
      "Epoch 22/100\n",
      "403/403 [==============================] - 0s 1ms/step - loss: 0.0688\n",
      "Epoch 23/100\n",
      "403/403 [==============================] - 0s 1ms/step - loss: 0.0688\n",
      "Epoch 24/100\n",
      "403/403 [==============================] - 0s 1ms/step - loss: 0.0688\n",
      "Epoch 25/100\n",
      "403/403 [==============================] - 0s 1ms/step - loss: 0.0687\n",
      "Epoch 26/100\n",
      "403/403 [==============================] - 0s 1ms/step - loss: 0.0686\n",
      "Epoch 27/100\n",
      "403/403 [==============================] - 0s 1ms/step - loss: 0.0686\n",
      "Epoch 28/100\n",
      "403/403 [==============================] - 0s 1ms/step - loss: 0.0685\n",
      "Epoch 29/100\n",
      "403/403 [==============================] - 0s 1ms/step - loss: 0.0683\n",
      "Epoch 30/100\n",
      "403/403 [==============================] - 0s 1ms/step - loss: 0.0682\n",
      "Epoch 31/100\n",
      "403/403 [==============================] - 0s 1ms/step - loss: 0.0682\n",
      "Epoch 32/100\n",
      "403/403 [==============================] - 0s 1ms/step - loss: 0.0681\n",
      "Epoch 33/100\n",
      "403/403 [==============================] - 0s 1ms/step - loss: 0.0679\n",
      "Epoch 34/100\n",
      "403/403 [==============================] - 0s 1ms/step - loss: 0.0679\n",
      "Epoch 35/100\n",
      "403/403 [==============================] - 0s 1ms/step - loss: 0.0678\n",
      "Epoch 36/100\n",
      "403/403 [==============================] - 0s 1ms/step - loss: 0.0677\n",
      "Epoch 37/100\n",
      "403/403 [==============================] - 0s 1ms/step - loss: 0.0675\n",
      "Epoch 38/100\n",
      "403/403 [==============================] - 0s 1ms/step - loss: 0.0674\n",
      "Epoch 39/100\n",
      "403/403 [==============================] - 0s 1ms/step - loss: 0.0670\n",
      "Epoch 40/100\n",
      "403/403 [==============================] - 0s 1ms/step - loss: 0.0671\n",
      "Epoch 41/100\n",
      "403/403 [==============================] - 0s 1ms/step - loss: 0.0667\n",
      "Epoch 42/100\n",
      "403/403 [==============================] - 0s 1ms/step - loss: 0.0666\n",
      "Epoch 43/100\n",
      "403/403 [==============================] - 0s 1ms/step - loss: 0.0663\n",
      "Epoch 44/100\n",
      "403/403 [==============================] - 0s 1ms/step - loss: 0.0663\n",
      "Epoch 45/100\n",
      "403/403 [==============================] - 0s 1ms/step - loss: 0.0662\n",
      "Epoch 46/100\n",
      "403/403 [==============================] - 0s 1ms/step - loss: 0.0660\n",
      "Epoch 47/100\n",
      "403/403 [==============================] - 0s 1ms/step - loss: 0.0656\n",
      "Epoch 48/100\n",
      "403/403 [==============================] - 0s 1ms/step - loss: 0.0654\n",
      "Epoch 49/100\n",
      "403/403 [==============================] - 0s 1ms/step - loss: 0.0653\n",
      "Epoch 50/100\n",
      "403/403 [==============================] - 0s 1ms/step - loss: 0.0649\n",
      "Epoch 51/100\n",
      "403/403 [==============================] - 0s 1ms/step - loss: 0.0646\n",
      "Epoch 52/100\n",
      "403/403 [==============================] - 0s 1ms/step - loss: 0.0644\n",
      "Epoch 53/100\n",
      "403/403 [==============================] - 0s 1ms/step - loss: 0.0641\n",
      "Epoch 54/100\n",
      "403/403 [==============================] - 0s 1ms/step - loss: 0.0640\n",
      "Epoch 55/100\n",
      "403/403 [==============================] - 0s 1ms/step - loss: 0.0636\n",
      "Epoch 56/100\n",
      "403/403 [==============================] - 0s 1ms/step - loss: 0.0631\n",
      "Epoch 57/100\n",
      "403/403 [==============================] - 0s 1ms/step - loss: 0.0630\n",
      "Epoch 58/100\n",
      "403/403 [==============================] - 0s 1ms/step - loss: 0.0628\n",
      "Epoch 59/100\n",
      "403/403 [==============================] - 0s 1ms/step - loss: 0.0626\n",
      "Epoch 60/100\n",
      "403/403 [==============================] - 0s 1ms/step - loss: 0.0625\n",
      "Epoch 61/100\n",
      "403/403 [==============================] - 0s 1ms/step - loss: 0.0621\n",
      "Epoch 62/100\n",
      "403/403 [==============================] - 0s 1ms/step - loss: 0.0617\n",
      "Epoch 63/100\n",
      "403/403 [==============================] - 0s 1ms/step - loss: 0.0615\n",
      "Epoch 64/100\n",
      "403/403 [==============================] - 0s 1ms/step - loss: 0.0611\n",
      "Epoch 65/100\n",
      "403/403 [==============================] - 0s 1ms/step - loss: 0.0612\n",
      "Epoch 66/100\n",
      "403/403 [==============================] - 0s 1ms/step - loss: 0.0609\n",
      "Epoch 67/100\n",
      "403/403 [==============================] - 0s 1ms/step - loss: 0.0608\n",
      "Epoch 68/100\n",
      "403/403 [==============================] - 0s 1ms/step - loss: 0.0606\n",
      "Epoch 69/100\n",
      "403/403 [==============================] - 0s 1ms/step - loss: 0.0598\n",
      "Epoch 70/100\n",
      "403/403 [==============================] - 0s 1ms/step - loss: 0.0604\n",
      "Epoch 71/100\n",
      "403/403 [==============================] - 0s 1ms/step - loss: 0.0600\n",
      "Epoch 72/100\n",
      "403/403 [==============================] - 0s 1ms/step - loss: 0.0600\n",
      "Epoch 73/100\n",
      "403/403 [==============================] - 0s 1ms/step - loss: 0.0596\n",
      "Epoch 74/100\n",
      "403/403 [==============================] - 0s 1ms/step - loss: 0.0593\n",
      "Epoch 75/100\n",
      "403/403 [==============================] - 0s 1ms/step - loss: 0.0592\n",
      "Epoch 76/100\n",
      "403/403 [==============================] - 0s 1ms/step - loss: 0.0589\n",
      "Epoch 77/100\n",
      "403/403 [==============================] - 0s 1ms/step - loss: 0.0586\n",
      "Epoch 78/100\n",
      "403/403 [==============================] - 0s 1ms/step - loss: 0.0587\n",
      "Epoch 79/100\n",
      "403/403 [==============================] - 0s 1ms/step - loss: 0.0589\n",
      "Epoch 80/100\n",
      "403/403 [==============================] - 0s 1ms/step - loss: 0.0584\n",
      "Epoch 81/100\n",
      "403/403 [==============================] - 0s 1ms/step - loss: 0.0581\n",
      "Epoch 82/100\n",
      "403/403 [==============================] - 0s 1ms/step - loss: 0.0582\n",
      "Epoch 83/100\n",
      "403/403 [==============================] - 0s 1ms/step - loss: 0.0578\n",
      "Epoch 84/100\n",
      "403/403 [==============================] - 0s 1ms/step - loss: 0.0579\n",
      "Epoch 85/100\n",
      "403/403 [==============================] - 0s 1ms/step - loss: 0.0574\n",
      "Epoch 86/100\n",
      "403/403 [==============================] - 0s 1ms/step - loss: 0.0576\n",
      "Epoch 87/100\n",
      "403/403 [==============================] - 0s 1ms/step - loss: 0.0570\n",
      "Epoch 88/100\n",
      "403/403 [==============================] - 0s 1ms/step - loss: 0.0576\n",
      "Epoch 89/100\n",
      "403/403 [==============================] - 0s 1ms/step - loss: 0.0573\n",
      "Epoch 90/100\n",
      "403/403 [==============================] - 0s 1ms/step - loss: 0.0570\n",
      "Epoch 91/100\n",
      "403/403 [==============================] - 0s 1ms/step - loss: 0.0568\n",
      "Epoch 92/100\n",
      "403/403 [==============================] - 0s 1ms/step - loss: 0.0562\n",
      "Epoch 93/100\n",
      "403/403 [==============================] - 0s 1ms/step - loss: 0.0566\n",
      "Epoch 94/100\n",
      "403/403 [==============================] - 0s 1ms/step - loss: 0.0566\n",
      "Epoch 95/100\n",
      "403/403 [==============================] - 0s 1ms/step - loss: 0.0569\n",
      "Epoch 96/100\n",
      "403/403 [==============================] - 0s 1ms/step - loss: 0.0560\n",
      "Epoch 97/100\n",
      "403/403 [==============================] - 0s 1ms/step - loss: 0.0559\n",
      "Epoch 98/100\n",
      "403/403 [==============================] - 0s 1ms/step - loss: 0.0559\n",
      "Epoch 99/100\n",
      "403/403 [==============================] - 0s 1ms/step - loss: 0.0556\n",
      "Epoch 100/100\n",
      "403/403 [==============================] - 0s 1ms/step - loss: 0.0558\n"
     ]
    },
    {
     "data": {
      "text/plain": [
       "<keras.callbacks.History at 0x17d7f7790>"
      ]
     },
     "execution_count": 16,
     "metadata": {},
     "output_type": "execute_result"
    }
   ],
   "source": [
    "model_rnn.fit(X_train,y_train,epochs=100,batch_size=32)"
   ]
  },
  {
   "cell_type": "markdown",
   "id": "95f8c022-d044-48a4-a1f8-10fe72b1aba6",
   "metadata": {},
   "source": [
    "# LSTM"
   ]
  },
  {
   "cell_type": "code",
   "execution_count": 17,
   "id": "bc342a14-5ff6-4267-83ec-73a39fbeb7e4",
   "metadata": {},
   "outputs": [],
   "source": [
    "model_lstm=keras.Sequential(name='LSTM')\n",
    "model_lstm.add(keras.layers.LSTM(100,activation='relu',input_shape=(X_train.shape[1],1)))\n",
    "model_lstm.add(keras.layers.Dense(1))\n",
    "model_lstm.compile(optimizer='adam',loss='mean_squared_error')\n",
    "                                                                    "
   ]
  },
  {
   "cell_type": "code",
   "execution_count": 18,
   "id": "847e7473-973c-4925-8672-6a49c0955ec2",
   "metadata": {},
   "outputs": [
    {
     "data": {
      "text/plain": [
       "<keras.callbacks.History at 0x17da79b50>"
      ]
     },
     "execution_count": 18,
     "metadata": {},
     "output_type": "execute_result"
    }
   ],
   "source": [
    "model_lstm.fit(X_train,y_train,epochs=100,batch_size=32,verbose=0)"
   ]
  },
  {
   "cell_type": "markdown",
   "id": "66d7a359-58d7-4a47-8838-7738597262f2",
   "metadata": {},
   "source": [
    "# GRU"
   ]
  },
  {
   "cell_type": "code",
   "execution_count": 19,
   "id": "73f0a507-6d29-4037-8bdd-911ff4567173",
   "metadata": {},
   "outputs": [],
   "source": [
    "model_gru=keras.Sequential(name='GRU')\n",
    "model_gru.add(keras.layers.GRU(100,activation='relu',input_shape=(X_train.shape[1],1)))\n",
    "model_gru.add(keras.layers.Dense(1))\n",
    "model_gru.compile(optimizer='adam',loss='mean_squared_error')"
   ]
  },
  {
   "cell_type": "code",
   "execution_count": 20,
   "id": "f6214df8-ccb4-49c7-a777-9dc756d7070c",
   "metadata": {},
   "outputs": [
    {
     "data": {
      "text/plain": [
       "<keras.callbacks.History at 0x17f3ba790>"
      ]
     },
     "execution_count": 20,
     "metadata": {},
     "output_type": "execute_result"
    }
   ],
   "source": [
    "model_gru.fit(X_train,y_train,epochs=100,batch_size=32,verbose=0)"
   ]
  },
  {
   "cell_type": "markdown",
   "id": "3121e378-0a98-4928-a8c0-aba698f07b06",
   "metadata": {},
   "source": [
    "# Evaluate Model"
   ]
  },
  {
   "cell_type": "code",
   "execution_count": 21,
   "id": "7fe28fef-b234-4988-9c53-17278e4d7daf",
   "metadata": {},
   "outputs": [],
   "source": [
    "from sklearn.metrics import mean_squared_error\n",
    "def evaluate_model(model,X_test,y_test):\n",
    "    X_test_reshaped=X_test.reshape(X_test.shape[0],X_test.shape[1],1)\n",
    "    y_pred=model.predict(X_test_reshaped)\n",
    "    y_pred=scaler.inverse_transform(y_pred).flatten()\n",
    "    y_pred=scaler.inverse_transform(y_test.reshape(-1,1)).flatten()\n",
    "    mse=mean_squared_error(y_test,y_pred)\n",
    "    return mse"
   ]
  },
  {
   "cell_type": "code",
   "execution_count": 22,
   "id": "1130389b-21bf-4ab2-b1c0-f858226af197",
   "metadata": {},
   "outputs": [
    {
     "name": "stdout",
     "output_type": "stream",
     "text": [
      "101/101 [==============================] - 0s 473us/step\n",
      "101/101 [==============================] - 0s 1ms/step\n",
      "101/101 [==============================] - 0s 1ms/step\n",
      "RNN mse: 3.544885021752642\n",
      "lstm mse: 3.544885021752642\n",
      "GRU mse: 3.544885021752642\n"
     ]
    }
   ],
   "source": [
    "mse_rnn=evaluate_model(model_rnn,X_test,y_test)\n",
    "mse_lstm=evaluate_model(model_lstm,X_test,y_test)\n",
    "mse_gru=evaluate_model(model_gru,X_test,y_test)\n",
    "print(\"RNN mse:\",mse_rnn)\n",
    "print(\"lstm mse:\",mse_lstm)\n",
    "print('GRU mse:',mse_gru)\n"
   ]
  },
  {
   "cell_type": "code",
   "execution_count": 23,
   "id": "8aff49dc-164d-4707-a147-b8a2c3e67e9a",
   "metadata": {},
   "outputs": [
    {
     "name": "stdout",
     "output_type": "stream",
     "text": [
      "101/101 [==============================] - 0s 465us/step\n",
      "101/101 [==============================] - 0s 1ms/step\n",
      "101/101 [==============================] - 0s 1ms/step\n"
     ]
    },
    {
     "data": {
      "image/png": "[encoded data removed]",
      "text/plain": [
       "<Figure size 1200x600 with 1 Axes>"
      ]
     },
     "metadata": {},
     "output_type": "display_data"
    }
   ],
   "source": [
    "y_pred_rnn = model_rnn.predict(X_test.reshape(X_test.shape[0], X_test.shape[1], 1))\n",
    "y_pred_rnn = scaler.inverse_transform(y_pred_rnn).flatten()\n",
    "\n",
    "y_pred_lstm = model_lstm.predict(X_test.reshape(X_test.shape[0], X_test.shape[1], 1))\n",
    "y_pred_lstm = scaler.inverse_transform(y_pred_lstm).flatten()\n",
    "\n",
    "y_pred_gru = model_gru.predict(X_test.reshape(X_test.shape[0], X_test.shape[1], 1))\n",
    "y_pred_gru = scaler.inverse_transform(y_pred_gru).flatten()\n",
    "\n",
    "plt.figure(figsize=(12, 6))\n",
    "plt.plot(y_test, label='Actual')\n",
    "plt.plot(y_pred_rnn, label='RNN Predicted', alpha=0.7)\n",
    "plt.plot(y_pred_lstm, label='LSTM Predicted', alpha=0.7)\n",
    "plt.plot(y_pred_gru, label='GRU Predicted', alpha=0.7)\n",
    "plt.legend()\n",
    "plt.title('Passenger Count Prediction vs. Actual')\n",
    "plt.show()"
   ]
  },
  {
   "cell_type": "code",
   "execution_count": null,
   "id": "8a0a4901-2727-4d90-a858-b8463a6384c4",
   "metadata": {},
   "outputs": [],
   "source": []
  }
 ],
 "metadata": {
  "kernelspec": {
   "display_name": "Python 3 (ipykernel)",
   "language": "python",
   "name": "python3"
  },
  "language_info": {
   "codemirror_mode": {
    "name": "ipython",
    "version": 3
   },
   "file_extension": ".py",
   "mimetype": "text/x-python",
   "name": "python",
   "nbconvert_exporter": "python",
   "pygments_lexer": "ipython3",
   "version": "3.11.10"
  }
 },
 "nbformat": 4,
 "nbformat_minor": 5
}
